{
  "cells": [
    {
      "cell_type": "code",
      "execution_count": 1,
      "metadata": {
        "id": "CHclUt0dhCJz"
      },
      "outputs": [
        {
          "name": "stderr",
          "output_type": "stream",
          "text": [
            "/home/ubuntu/miniconda3/envs/pytorch/lib/python3.10/site-packages/tqdm/auto.py:22: TqdmWarning: IProgress not found. Please update jupyter and ipywidgets. See https://ipywidgets.readthedocs.io/en/stable/user_install.html\n",
            "  from .autonotebook import tqdm as notebook_tqdm\n"
          ]
        }
      ],
      "source": [
        "import torch\n",
        "import torch.nn.functional as F\n",
        "from torch import nn\n",
        "import logging\n",
        "import argparse\n",
        "import numpy as np\n",
        "from torch.optim.lr_scheduler import StepLR\n",
        "import matplotlib.pyplot as plt\n",
        "from itertools import product"
      ]
    },
    {
      "cell_type": "markdown",
      "metadata": {
        "id": "QA7kxmT22muQ"
      },
      "source": [
        "# Code"
      ]
    },
    {
      "cell_type": "code",
      "execution_count": 2,
      "metadata": {
        "id": "2oY0bPAbl8hG"
      },
      "outputs": [],
      "source": [
        "from tqdm import trange"
      ]
    },
    {
      "cell_type": "code",
      "execution_count": 3,
      "metadata": {
        "id": "R5kpY_38MprP"
      },
      "outputs": [],
      "source": [
        "import functions_hv_grad_3d"
      ]
    },
    {
      "cell_type": "code",
      "execution_count": 4,
      "metadata": {
        "id": "G2q3f93pMxhm"
      },
      "outputs": [],
      "source": [
        "from functions_evaluation import compute_hv_in_higher_dimensions as compute_hv"
      ]
    },
    {
      "cell_type": "code",
      "execution_count": 5,
      "metadata": {
        "id": "cdrElWFuL7uZ"
      },
      "outputs": [],
      "source": [
        "import numpy as np\n",
        "import torch\n",
        "\n",
        "from functions_evaluation import fastNonDominatedSort\n",
        "from functions_hv_grad_3d import grad_multi_sweep_with_duplicate_handling\n",
        "\n",
        "\n",
        "class HvMaximization(object):\n",
        "    \"\"\"\n",
        "    Mo optimizer for calculating dynamic weights using higamo style hv maximization\n",
        "    based on Hao Wang et al.'s HIGA-MO\n",
        "    uses non-dominated sorting to create multiple fronts, and maximize hypervolume of each\n",
        "    \"\"\"\n",
        "    def __init__(self, n_mo_sol, n_mo_obj, ref_point, obj_space_normalize=True):\n",
        "        super(HvMaximization, self).__init__()\n",
        "        self.name = 'hv_maximization'\n",
        "        self.ref_point = np.array(ref_point)\n",
        "        self.n_mo_sol = n_mo_sol\n",
        "        self.n_mo_obj = n_mo_obj\n",
        "        self.obj_space_normalize = obj_space_normalize\n",
        "\n",
        "\n",
        "    def compute_weights(self, mo_obj_val):\n",
        "        n_mo_obj = self.n_mo_obj\n",
        "        n_mo_sol = self.n_mo_sol\n",
        "\n",
        "        # non-dom sorting to create multiple fronts\n",
        "        hv_subfront_indices = fastNonDominatedSort(mo_obj_val)\n",
        "        dyn_ref_point =  1.1 * np.max(mo_obj_val, axis=1)\n",
        "        for i_obj in range(0,n_mo_obj):\n",
        "            dyn_ref_point[i_obj] = np.maximum(self.ref_point[i_obj],dyn_ref_point[i_obj])\n",
        "        number_of_fronts = np.max(hv_subfront_indices) + 1 # +1 because of 0 indexing\n",
        "        \n",
        "        obj_space_multifront_hv_gradient = np.zeros((n_mo_obj,n_mo_sol))\n",
        "        for i_fronts in range(0,number_of_fronts):\n",
        "            # compute HV gradients for current front\n",
        "            temp_grad_array = grad_multi_sweep_with_duplicate_handling(mo_obj_val[:, (hv_subfront_indices == i_fronts) ],dyn_ref_point)\n",
        "            obj_space_multifront_hv_gradient[:, (hv_subfront_indices == i_fronts) ] = temp_grad_array\n",
        "\n",
        "        # normalize the hv_gradient in obj space (||dHV/dY|| == 1)\n",
        "        normalized_obj_space_multifront_hv_gradient = np.zeros((n_mo_obj,n_mo_sol))\n",
        "        for i_mo_sol in range(0,n_mo_sol):\n",
        "            w = np.sqrt(np.sum(obj_space_multifront_hv_gradient[:,i_mo_sol]**2.0))\n",
        "            if np.isclose(w,0):\n",
        "                w = 1\n",
        "            if self.obj_space_normalize:\n",
        "                normalized_obj_space_multifront_hv_gradient[:,i_mo_sol] = obj_space_multifront_hv_gradient[:,i_mo_sol]/w\n",
        "            else:\n",
        "                normalized_obj_space_multifront_hv_gradient[:,i_mo_sol] = obj_space_multifront_hv_gradient[:,i_mo_sol]\n",
        "\n",
        "        dynamic_weights = torch.tensor(normalized_obj_space_multifront_hv_gradient, dtype=torch.float)\n",
        "        return(dynamic_weights)"
      ]
    },
    {
      "cell_type": "code",
      "execution_count": 6,
      "metadata": {
        "id": "vuI_B3BzU-v8"
      },
      "outputs": [],
      "source": [
        "def evenly_dist_weights(num_weights, dim):\n",
        "    return [ret for ret in product(\n",
        "        np.linspace(0.0, 1.0, num_weights), repeat=dim) if round(sum(ret), 3) == 1.0 and all(r not in (0.0, 1.0) for r in ret)]"
      ]
    },
    {
      "cell_type": "code",
      "execution_count": 7,
      "metadata": {
        "id": "hRlE1K_ZihOB"
      },
      "outputs": [],
      "source": [
        "class Toy_Hypernetwork(nn.Module):\n",
        "  def __init__(self, ray_hidden_dim=30, out_dim=100, target_hidden_dim=15, n_hidden=1, n_tasks=2):\n",
        "      super().__init__()\n",
        "      self.n_hidden = n_hidden\n",
        "      self.n_tasks = n_tasks\n",
        "\n",
        "      self.ray_mlp = nn.Sequential(\n",
        "            nn.Linear(2, ray_hidden_dim),\n",
        "            nn.ReLU(inplace=True),\n",
        "            nn.Linear(ray_hidden_dim, ray_hidden_dim),\n",
        "            nn.ReLU(inplace=True),\n",
        "            nn.Linear(ray_hidden_dim, ray_hidden_dim)\n",
        "        )\n",
        "      for j in range(n_tasks):\n",
        "            setattr(self, f\"task_{j}_weights\", nn.Linear(ray_hidden_dim, out_dim))\n",
        "            setattr(self, f\"task_{j}_bias\", nn.Linear(ray_hidden_dim, out_dim))\n",
        "\n",
        "  def forward(self, ray):\n",
        "      features = self.ray_mlp(ray)\n",
        "\n",
        "      out_dict = {}\n",
        "      \n",
        "      layer_types = [\"task\"]\n",
        "      for i in layer_types:\n",
        "          if i == \"hidden\":\n",
        "              n_layers = self.n_hidden\n",
        "          elif i == \"task\":\n",
        "              n_layers = self.n_tasks\n",
        "\n",
        "          for j in range(n_layers):\n",
        "              out_dict[f\"{i}{j}.weights\"] = getattr(self, f\"{i}_{j}_weights\")(features)\n",
        "              out_dict[f\"{i}{j}.bias\"] = getattr(self, f\"{i}_{j}_bias\")(features).flatten()\n",
        "\n",
        "      return out_dict\n",
        "\n",
        "class Toy_Targetnetwork(nn.Module):\n",
        "  def __init__(self, out_dim=100, target_hidden_dim=15, n_tasks=2):\n",
        "      super().__init__()\n",
        "      self.out_dim = out_dim\n",
        "      self.n_tasks = n_tasks\n",
        "      self.target_hidden_dim = target_hidden_dim\n",
        "\n",
        "  def forward(self, weights=None):\n",
        "    x = torch.ones([1, 1], dtype=torch.float32).to(device)\n",
        "    outputs = []\n",
        "    for j in range(self.n_tasks):\n",
        "            outputs.append(\n",
        "                F.linear(\n",
        "                    x, weight=weights[f'task{j}.weights'].reshape(self.out_dim, x.shape[-1]),\n",
        "                    bias=weights[f'task{j}.bias']\n",
        "                )\n",
        "            )\n",
        "    return outputs"
      ]
    },
    {
      "cell_type": "code",
      "execution_count": 8,
      "metadata": {
        "id": "PshdbtkgAWCl"
      },
      "outputs": [],
      "source": [
        "def count_parameters(model):\n",
        "    return sum(p.numel() for p in model.parameters() if p.requires_grad)"
      ]
    },
    {
      "cell_type": "code",
      "execution_count": 9,
      "metadata": {
        "id": "T10KFx5uAxE8"
      },
      "outputs": [],
      "source": [
        "def toy_loss_1(output):\n",
        "  d = output.shape[1]\n",
        "  d = torch.from_numpy(np.array(d, dtype='float32'))\n",
        "  return torch.mean(1-torch.exp(-torch.norm(output-1/torch.sqrt(d), p=2)))\n",
        "def toy_loss_2(output):\n",
        "  d = output.shape[1]\n",
        "  d = torch.from_numpy(np.array(d, dtype='float32'))\n",
        "  return torch.mean(1-torch.exp(-torch.norm(output+1/torch.sqrt(d), p=2)))"
      ]
    },
    {
      "cell_type": "code",
      "execution_count": 10,
      "metadata": {
        "id": "KTriLKLPWaCP"
      },
      "outputs": [],
      "source": [
        "import random\n",
        "def set_logger():\n",
        "    logging.basicConfig(\n",
        "        format='%(asctime)s - %(name)s - %(levelname)s - %(message)s',\n",
        "        level=logging.INFO\n",
        "    )\n",
        "\n",
        "\n",
        "def set_seed(seed):\n",
        "    \"\"\"for reproducibility\n",
        "    :param seed:\n",
        "    :return:\n",
        "    \"\"\"\n",
        "    np.random.seed(seed)\n",
        "    random.seed(seed)\n",
        "\n",
        "    torch.manual_seed(seed)\n",
        "    if torch.cuda.is_available():\n",
        "        torch.cuda.manual_seed(seed)\n",
        "        torch.cuda.manual_seed_all(seed)\n",
        "\n",
        "    torch.backends.cudnn.enabled = True\n",
        "    torch.backends.cudnn.benchmark = False\n",
        "    torch.backends.cudnn.deterministic = True\n",
        "\n"
      ]
    },
    {
      "cell_type": "code",
      "execution_count": 11,
      "metadata": {
        "id": "4NKBTH2_WKNx"
      },
      "outputs": [],
      "source": [
        "set_logger()"
      ]
    },
    {
      "cell_type": "code",
      "execution_count": 12,
      "metadata": {
        "id": "tbEy9y-yXcBI"
      },
      "outputs": [],
      "source": [
        "class parse_arg():\n",
        "  def __init__(self):\n",
        "    pass\n",
        "args = parse_arg()\n",
        "args.no_cuda = False\n",
        "args.gpus = '2'"
      ]
    },
    {
      "cell_type": "code",
      "execution_count": 13,
      "metadata": {
        "id": "mTSJDItLV2qF"
      },
      "outputs": [],
      "source": [
        "def get_device(no_cuda=False, gpus='0'):\n",
        "    return torch.device(f\"cuda:{gpus}\" if torch.cuda.is_available() and not no_cuda else \"cpu\")\n",
        "device=get_device(no_cuda=args.no_cuda, gpus=args.gpus)\n",
        "#device=get_device(no_cuda=True)"
      ]
    },
    {
      "cell_type": "code",
      "execution_count": 14,
      "metadata": {
        "id": "Tmf5Clummu0t"
      },
      "outputs": [],
      "source": [
        "from functions_evaluation import fastNonDominatedSort"
      ]
    },
    {
      "cell_type": "code",
      "execution_count": 15,
      "metadata": {
        "id": "v_-7RJHMs7PN"
      },
      "outputs": [],
      "source": [
        "import copy\n",
        "from functions_hv_python3 import HyperVolume"
      ]
    },
    {
      "cell_type": "markdown",
      "metadata": {
        "id": "ndv7sWH8f7p0"
      },
      "source": [
        "# Trainer"
      ]
    },
    {
      "cell_type": "code",
      "execution_count": 16,
      "metadata": {
        "id": "VhLT_LBh6CGy"
      },
      "outputs": [],
      "source": [
        "from functions_evaluation import compute_hv_in_higher_dimensions as compute_hv\n",
        "def evaluate_hv(soluong, start, end, hnet, net, ref_point):\n",
        "  #print('Evaluate')\n",
        "  results = []\n",
        "\n",
        "  loss1 = toy_loss_1\n",
        "  loss2 = toy_loss_2\n",
        "  angles = np.linspace(start, end, soluong, endpoint=True)\n",
        "  x = np.cos(angles)\n",
        "  y = np.sin(angles)\n",
        "  rays = np.c_[x, y]\n",
        "  min_penalty= 999\n",
        "  for i in range(soluong):\n",
        "    ray = rays[i]\n",
        "    ray = torch.from_numpy(\n",
        "                        ray.astype(np.float32).flatten()\n",
        "                    ).to(device)\n",
        "\n",
        "    weights = hnet(ray)\n",
        "    output = net(weights)[0]\n",
        "    l1 = loss1(output)\n",
        "    l2 = loss2(output)\n",
        "    loss_batch = torch.stack((l1, l2)).detach().cpu().numpy()\n",
        "    loss_batch = np.array(loss_batch)\n",
        "    #loss_mean = np.mean(loss_batch, axis=0)\n",
        "    penalty = np.sum(rays[i].astype(np.float32).flatten()*loss_batch)/(np.sqrt(np.sum(loss_batch**2)))\n",
        "    if penalty < min_penalty:\n",
        "      min_penalty = penalty\n",
        "    results.append(loss_batch)\n",
        "      \n",
        "  results = np.array(results, dtype='float32')\n",
        "  #print(results)\n",
        "  return compute_hv(results.T, ref_point), results, min_penalty"
      ]
    },
    {
      "cell_type": "code",
      "execution_count": 17,
      "metadata": {
        "id": "rS9ZdVCB-lI2"
      },
      "outputs": [],
      "source": [
        "def train(device: torch.device, hidden_dim:int, lr: float, wd: float, epochs:int, alpha:float, head:int, \n",
        "          hesophat:float,cfg):\n",
        "  training = []\n",
        "  partition = np.array([1/head]*head)\n",
        "  hnet: nn.Module = Toy_Hypernetwork(ray_hidden_dim=hidden_dim, n_tasks=1)\n",
        "  best_hv = 0\n",
        "  net_list = []\n",
        "  for i in range(head):\n",
        "    net: nn.Module = Toy_Targetnetwork(n_tasks=1)\n",
        "    net_list.append(net)\n",
        "  logging.info(f\"HN size: {count_parameters(hnet)}\")\n",
        "\n",
        "  hnet = hnet.to(device)\n",
        "  for net in net_list:\n",
        "    net = net.to(device)\n",
        "\n",
        "  loss1 = toy_loss_1\n",
        "  loss2 = toy_loss_2\n",
        "\n",
        "  optimizer = torch.optim.Adam(hnet.parameters(), lr=lr, weight_decay=wd)\n",
        "\n",
        "  #scheduler = StepLR(optimizer, step_size=20, gamma=0.1)\n",
        "\n",
        "  #solver = EPOSolver(n_tasks=2, n_params=count_parameters(hnet))\n",
        "\n",
        "  \n",
        "\n",
        "  ref_point = cfg[\"ref_point\"]\n",
        "  n_mo_sol = cfg[\"n_mo_sol\"]\n",
        "  n_mo_obj = cfg[\"n_mo_obj\"]\n",
        "  # start = 0-np.pi/4\n",
        "  # end = np.pi*5/6\n",
        "  start = 0.\n",
        "  end = np.pi/2\n",
        "  print(\"Start Phase 1\")\n",
        "  phase1_iter = trange(150)\n",
        "\n",
        "  optimizer_direction = torch.optim.Adam(hnet.parameters(), lr=5e-4, weight_decay=wd)\n",
        "  for _ in phase1_iter:\n",
        "    optimizer_direction.zero_grad()\n",
        "    if (_+1) % 50 == 0:\n",
        "      for param_group in optimizer.param_groups:\n",
        "          param_group['lr'] *= np.sqrt(0.5)\n",
        "      #patience = 0\n",
        "      lr *= np.sqrt(0.5)    \n",
        "    penalty_epoch = []\n",
        "\n",
        "    losses_mean= []\n",
        "    weights = []\n",
        "    outputs = []\n",
        "    rays = []\n",
        "    penalty = []\n",
        "    sum_penalty = 0\n",
        "    for j in range(n_mo_sol):\n",
        "\n",
        "      random = np.random.uniform(start + j*(end-start)/head, start+ (j+1)*(end-start)/head)\n",
        "\n",
        "      ray = np.array([np.cos(random),\n",
        "                        np.sin(random)], dtype='float32')\n",
        "                  \n",
        "      rays.append(torch.from_numpy(\n",
        "                      ray.flatten()\n",
        "                  ).to(device))\n",
        "      #weights.append(hnet(rays[j]))\n",
        "      weights.append(hnet(rays[j]))\n",
        "      outputs.append(net_list[j](weights[j])[0])\n",
        "      losses_mean.append(torch.stack([loss1(outputs[j]), loss2(outputs[j])]))\n",
        "\n",
        "      penalty.append(torch.sum(losses_mean[j]*rays[j])/(torch.norm(rays[j])*torch.norm(losses_mean[j])))\n",
        "\n",
        "      sum_penalty += penalty[j].item()\n",
        "\n",
        "    direction_loss = 0.\n",
        "    for phat in penalty[:]:\n",
        "        direction_loss -= phat\n",
        "    direction_loss.backward()\n",
        "    optimizer_direction.step()\n",
        "\n",
        "    aaa = sum_penalty/float(head)\n",
        "    phase1_iter.set_description(f\"Epochs {_} penalty {aaa:.2f}\")\n",
        "\n",
        "  print(\"End phase 1 after {}\".format(_))\n",
        "  mo_opt = HvMaximization(n_mo_sol, n_mo_obj, ref_point)\n",
        "  \n",
        "  dem = 0\n",
        "  epoch_iter = trange(epochs)\n",
        "  for epoch in epoch_iter:\n",
        "    dem += 1\n",
        "\n",
        "    hnet.train()\n",
        "    optimizer.zero_grad()\n",
        "\n",
        "    loss_torch_per_sample = []\n",
        "    loss_numpy_per_sample = []\n",
        "    loss_per_sample = []\n",
        "    weights = []\n",
        "    outputs = []\n",
        "    rays = []\n",
        "    penalty = []\n",
        "    for i in range(n_mo_sol):\n",
        "      random = np.random.uniform(start, end)\n",
        "      # random = np.random.uniform(start + i*(end-start)/head, start+ (i+1)*(end-start)/head) # random uniform\n",
        "      ray = np.array([np.cos(random),\n",
        "                        np.sin(random)], dtype='float32')\n",
        "\n",
        "      rays.append(torch.from_numpy(\n",
        "                      ray.flatten()\n",
        "                  ).to(device))\n",
        "      weights.append(hnet(rays[i]))\n",
        "\n",
        "      outputs.append(net_list[i](weights[i])[0])\n",
        "      \n",
        "      loss_per_sample = torch.stack([loss1(outputs[i]), loss2(outputs[i])])\n",
        "      loss_torch_per_sample.append(loss_per_sample)\n",
        "      loss_numpy_per_sample.append(loss_per_sample.cpu().detach().numpy())\n",
        "\n",
        "      penalty.append(torch.sum(loss_torch_per_sample[i]*rays[i])/\n",
        "                     (torch.norm(loss_torch_per_sample[i])*torch.norm(rays[i])))\n",
        "\n",
        "    loss_numpy_per_sample = np.array(loss_numpy_per_sample)[np.newaxis, :, :].transpose(0, 2, 1) #n_samples, obj, sol\n",
        "\n",
        "    n_samples = 1\n",
        "    dynamic_weights_per_sample = torch.ones(n_mo_sol, n_mo_obj, n_samples)\n",
        "    for i_sample in range(0, n_samples):\n",
        "      weights_task = mo_opt.compute_weights(loss_numpy_per_sample[i_sample,:,:])\n",
        "      dynamic_weights_per_sample[:, :, i_sample] = weights_task.permute(1,0)\n",
        "      \n",
        "    dynamic_weights_per_sample = dynamic_weights_per_sample.to(device)\n",
        "    i_mo_sol = 0\n",
        "    total_dynamic_loss = torch.mean(torch.sum(dynamic_weights_per_sample[i_mo_sol, :, :]\n",
        "                                              * loss_torch_per_sample[i_mo_sol], dim=0))\n",
        "    for i_mo_sol in range(1, len(net_list)):\n",
        "      total_dynamic_loss += torch.mean(torch.sum(dynamic_weights_per_sample[i_mo_sol, :, :] \n",
        "                                          * loss_torch_per_sample[i_mo_sol], dim=0))\n",
        "    \n",
        "    for idx in range(head):\n",
        "      total_dynamic_loss -= hesophat*penalty[idx]*partition[idx]\n",
        "    \n",
        "      \n",
        "    total_dynamic_loss /= head\n",
        "    total_dynamic_loss.backward()\n",
        "    optimizer.step()\n",
        "\n",
        "    penalty = [i.item() for i in penalty]\n",
        "\n",
        "    if epoch % 300 ==0:\n",
        "      training.append([i.detach().cpu().tolist() for i in loss_torch_per_sample])\n",
        "  return hnet, net, training, partition"
      ]
    },
    {
      "cell_type": "markdown",
      "metadata": {
        "id": "L6afzR_zddCw"
      },
      "source": [
        "# Test"
      ]
    },
    {
      "cell_type": "code",
      "execution_count": 18,
      "metadata": {
        "id": "DSpgpsYek62x"
      },
      "outputs": [],
      "source": [
        "cfg = {}\n",
        "cfg[\"ref_point\"] = (2, 2)\n",
        "cfg[\"n_mo_obj\"] = 2\n",
        "cfg[\"n_mo_sol\"] = 8\n",
        "device = get_device(no_cuda=args.no_cuda, gpus=args.gpus)\n",
        "hidden_dim=100\n",
        "lr=1e-3\n",
        "wd=0.\n",
        "epochs=10000\n",
        "alpha=0.2\n",
        "cfg= cfg\n",
        "head=cfg[\"n_mo_sol\"]\n",
        "hesophat=100. # lambda\n",
        "n_mo_obj = cfg[\"n_mo_obj\"]\n",
        "n_mo_sol = cfg[\"n_mo_sol\"]\n",
        "ref_point = cfg[\"ref_point\"]\n",
        "method = \"2_MH\""
      ]
    },
    {
      "cell_type": "code",
      "execution_count": 19,
      "metadata": {
        "colab": {
          "base_uri": "https://localhost:8080/"
        },
        "id": "I9hszbCmndf3",
        "outputId": "8b61f577-323b-4f7b-e3c7-48684550205c"
      },
      "outputs": [
        {
          "name": "stderr",
          "output_type": "stream",
          "text": [
            "2022-12-15 18:07:10,235 - root - INFO - HN size: 40700\n"
          ]
        },
        {
          "name": "stdout",
          "output_type": "stream",
          "text": [
            "Start Phase 1\n"
          ]
        },
        {
          "name": "stderr",
          "output_type": "stream",
          "text": [
            "Epochs 149 penalty 1.00: 100%|██████████| 150/150 [00:04<00:00, 35.21it/s]\n"
          ]
        },
        {
          "name": "stdout",
          "output_type": "stream",
          "text": [
            "End phase 1 after 149\n"
          ]
        },
        {
          "name": "stderr",
          "output_type": "stream",
          "text": [
            "100%|██████████| 10000/10000 [03:58<00:00, 41.86it/s]\n"
          ]
        }
      ],
      "source": [
        "hnet, net, training, partition = train(device = get_device(no_cuda=args.no_cuda, gpus=args.gpus), hidden_dim=100,\n",
        "                  lr=1e-3, wd=0., epochs=epochs, alpha=0.2, cfg= cfg, head=cfg['n_mo_sol'], hesophat=hesophat)"
      ]
    },
    {
      "cell_type": "code",
      "execution_count": 20,
      "metadata": {
        "id": "BvkxaPckB-G2"
      },
      "outputs": [],
      "source": [
        "results = []\n",
        "loss1 = toy_loss_1\n",
        "loss2 = toy_loss_2\n",
        "soluong = 1000\n",
        "\n",
        "start = 0.\n",
        "end = np.pi/2\n",
        "random_lst = np.linspace(start, end, soluong)\n",
        "\n",
        "for i in range(soluong):\n",
        "  random = random_lst[i]\n",
        "  ray = np.array([np.cos(random),\n",
        "                      np.sin(random)], dtype='float32')\n",
        "  #ray = np.array([rays[i]], dtype='float32')                    \n",
        "  ray = torch.from_numpy(\n",
        "                      ray.flatten()\n",
        "                  ).to(device)\n",
        "\n",
        "  weights = hnet(ray)\n",
        "  output = net(weights)[0]\n",
        "  l1 = loss1(output)\n",
        "  l2 = loss2(output)\n",
        "  results.append([l1, l2])"
      ]
    },
    {
      "cell_type": "code",
      "execution_count": 21,
      "metadata": {
        "id": "KrNfUkh1DGLR"
      },
      "outputs": [],
      "source": [
        "results = [[i[0].cpu().detach().numpy(), i[1].cpu().detach().numpy()] for i in results]\n",
        "results = np.array(results, dtype='float32')"
      ]
    },
    {
      "cell_type": "code",
      "execution_count": 22,
      "metadata": {
        "id": "H4sGSbkcoMgS"
      },
      "outputs": [
        {
          "data": {
            "text/plain": [
              "<matplotlib.collections.PathCollection at 0x7fd9a0326110>"
            ]
          },
          "execution_count": 22,
          "metadata": {},
          "output_type": "execute_result"
        },
        {
          "data": {
            "image/png": "[encoded data removed]",
            "text/plain": [
              "<Figure size 640x480 with 1 Axes>"
            ]
          },
          "metadata": {},
          "output_type": "display_data"
        }
      ],
      "source": [
        "z = np.load(\"/home/ubuntu/long.hp/Toy_Example/front/Toy_1_truth.npy\")\n",
        "plt.plot(z[:, 0], z[:, 1], color='red')\n",
        "plt.scatter(results[:, 0], results[:, 1], s=5)"
      ]
    },
    {
      "cell_type": "code",
      "execution_count": 23,
      "metadata": {},
      "outputs": [],
      "source": [
        "# np.save(\"front/Toy_\"+method+\".npy\", results)"
      ]
    },
    {
      "cell_type": "code",
      "execution_count": null,
      "metadata": {},
      "outputs": [],
      "source": []
    }
  ],
  "metadata": {
    "colab": {
      "collapsed_sections": [],
      "name": "Disconnected Toy_Multi-Head Hypernetwork ",
      "provenance": []
    },
    "gpuClass": "standard",
    "kernelspec": {
      "display_name": "Python 3.10.4 ('pytorch')",
      "language": "python",
      "name": "python3"
    },
    "language_info": {
      "codemirror_mode": {
        "name": "ipython",
        "version": 3
      },
      "file_extension": ".py",
      "mimetype": "text/x-python",
      "name": "python",
      "nbconvert_exporter": "python",
      "pygments_lexer": "ipython3",
      "version": "3.10.6"
    },
    "vscode": {
      "interpreter": {
        "hash": "4dbc9917bcaa9a9fa434c727723b90f93ecc3435121eacd019fcd02c268a833c"
      }
    }
  },
  "nbformat": 4,
  "nbformat_minor": 0
}
